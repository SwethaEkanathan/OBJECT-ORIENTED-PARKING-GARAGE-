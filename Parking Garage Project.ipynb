{
 "cells": [
  {
   "cell_type": "markdown",
   "metadata": {},
   "source": [
    "# Parking Garage Project\n",
    "\n",
    "Your assignment for today is to create a parking garage class to get more familiar with Object Oriented Programming(OOP). \n",
    "\n",
    "Your parking gargage class should have the following methods:\n",
    "- takeTicket\n",
    "   - This should decrease the amount of tickets available by 1\n",
    "   - This should decrease the amount of parkingSpaces available by 1\n",
    "- payForParking\n",
    "   - Display an input that waits for an amount from the user and store it in a variable\n",
    "   - If the payment variable is not empty then ->  display a message to the user that their ticket has been paid and they have 15mins to leave\n",
    "   - This should update the \"currentTicket\" dictionary key \"paid\" to True\n",
    "-leaveGarage\n",
    "   - If the ticket has been paid, display a message of \"Thank You, have a nice day\"\n",
    "   - If the ticket has not been paid, display an input prompt for payment\n",
    "      - Once paid, display message \"Thank you, have a nice day!\"\n",
    "   - Update parkingSpaces list to increase by 1\n",
    "   - Update tickets list to increase by 1\n",
    "\n",
    "You will need a few attributes as well:\n",
    "- tickets -> list\n",
    "- parkingSpaces -> list\n",
    "- currentTicket -> dictionary"
   ]
  },
  {
   "cell_type": "code",
   "execution_count": 6,
   "metadata": {},
   "outputs": [
    {
     "name": "stdout",
     "output_type": "stream",
     "text": [
      "Ticket #1 issued. Parking space #1 is reserved.\n",
      "Enter your ticket number to pay for parking: 2\n",
      "Invalid ticket number. Please enter a valid ticket number.\n",
      "Enter your ticket number to leave the garage: 1\n",
      "Payment is required before leaving. Please pay for parking.\n"
     ]
    }
   ],
   "source": [
    "class ParkingGarage:\n",
    "    def __init__(self, total_tickets, total_parking_spaces):\n",
    "        self.tickets = list(range(1, total_tickets + 1))\n",
    "        self.parkingSpaces = list(range(1, total_parking_spaces + 1))\n",
    "        self.currentTicket = {}\n",
    "\n",
    "    def takeTicket(self):\n",
    "        if self.tickets:\n",
    "            ticket_number = self.tickets.pop(0)\n",
    "            parking_space = self.parkingSpaces.pop(0)\n",
    "            self.currentTicket[ticket_number] = {\"paid\": False, \"parking_space\": parking_space}\n",
    "            print(f\"Ticket #{ticket_number} issued. Parking space #{parking_space} is reserved.\")\n",
    "        else:\n",
    "            print(\"Sorry, the parking garage is full. No more tickets available.\")\n",
    "\n",
    "    def payForParking(self):\n",
    "        while True:\n",
    "            try:\n",
    "                ticket_number = int(input(\"Enter your ticket number to pay for parking: \"))\n",
    "                break  # Exit the loop if the input is successfully converted to an integer\n",
    "            except ValueError:\n",
    "                print(\"Invalid input. Please enter a valid ticket number.\")\n",
    "\n",
    "        if ticket_number in self.currentTicket:\n",
    "            if not self.currentTicket[ticket_number][\"paid\"]:\n",
    "                while True:\n",
    "                    payment_amount = input(\"Enter the payment amount: \")\n",
    "                    if payment_amount:\n",
    "                        print(f\"Ticket #{ticket_number} has been paid. You have 15 minutes to leave.\")\n",
    "                        self.currentTicket[ticket_number][\"paid\"] = True\n",
    "                        break  # Exit the loop if the payment amount is provided\n",
    "                    else:\n",
    "                        print(\"Payment amount cannot be empty. Please enter a valid amount.\")\n",
    "            else:\n",
    "                print(\"This ticket has already been paid.\")\n",
    "        else:\n",
    "            print(\"Invalid ticket number. Please enter a valid ticket number.\")\n",
    "\n",
    "    def leaveGarage(self):\n",
    "        ticket_number = int(input(\"Enter your ticket number to leave the garage: \"))\n",
    "        \n",
    "        if ticket_number in self.currentTicket:\n",
    "            if self.currentTicket[ticket_number][\"paid\"]:\n",
    "                print(\"Thank you, have a nice day!\")\n",
    "                self.parkingSpaces.append(self.currentTicket[ticket_number][\"parking_space\"])\n",
    "                self.tickets.append(ticket_number)\n",
    "                del self.currentTicket[ticket_number]\n",
    "            else:\n",
    "                print(\"Payment is required before leaving. Please pay for parking.\")\n",
    "        else:\n",
    "            print(\"Invalid ticket number. Please enter a valid ticket number.\")\n",
    "\n",
    "parking_garage = ParkingGarage(total_tickets=10, total_parking_spaces=10)\n",
    "\n",
    "parking_garage.takeTicket()\n",
    "parking_garage.payForParking()\n",
    "parking_garage.leaveGarage()\n"
   ]
  }
 ],
 "metadata": {
  "kernelspec": {
   "display_name": "Python 3 (ipykernel)",
   "language": "python",
   "name": "python3"
  },
  "language_info": {
   "codemirror_mode": {
    "name": "ipython",
    "version": 3
   },
   "file_extension": ".py",
   "mimetype": "text/x-python",
   "name": "python",
   "nbconvert_exporter": "python",
   "pygments_lexer": "ipython3",
   "version": "3.11.5"
  }
 },
 "nbformat": 4,
 "nbformat_minor": 2
}
